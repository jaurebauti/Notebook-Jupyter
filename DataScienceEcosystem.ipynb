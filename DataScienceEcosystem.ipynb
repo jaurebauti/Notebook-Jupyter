{
 "cells": [
  {
   "cell_type": "markdown",
   "id": "e0b3877a-a1cf-48e7-b872-9a921226d70a",
   "metadata": {},
   "source": [
    "# Data Science Tools and Ecosystem"
   ]
  },
  {
   "cell_type": "markdown",
   "id": "78f18b27-c697-40b2-85aa-6858e2d5a253",
   "metadata": {},
   "source": [
    "### In this notebook, Data Science Tools and Ecosystem are summarized."
   ]
  },
  {
   "cell_type": "markdown",
   "id": "727c3602-d022-4222-80d5-f2f5d856d748",
   "metadata": {},
   "source": [
    "Some of the popular languages that Data Scientists use are:\n",
    "\n",
    "1. Python\n",
    "2. R\n",
    "3. Java"
   ]
  },
  {
   "cell_type": "markdown",
   "id": "6314ce73-286a-41db-b378-1dbd160de023",
   "metadata": {},
   "source": [
    "Some of the commonly used libraries used by Data Scientists include:\n",
    "\n",
    "1. NumPy\n",
    "2. Pandas\n",
    "3. Matplotlib"
   ]
  },
  {
   "cell_type": "markdown",
   "id": "fd8ad679-2eba-4247-8272-801faebacf54",
   "metadata": {},
   "source": [
    "| Data Science Tools |\n",
    "|--------------------|\n",
    "| Jupyter Notebook   |\n",
    "| RStudio            |\n",
    "| VS Code            |\n"
   ]
  },
  {
   "cell_type": "markdown",
   "id": "effedae2-d036-4ece-b9d9-a0a6fdb073ae",
   "metadata": {},
   "source": [
    "### Below are a few examples of evaluating arithmetic expressions in Python"
   ]
  },
  {
   "cell_type": "code",
   "execution_count": 2,
   "id": "a64fd896-1fa4-44a2-8d61-94717fc462c0",
   "metadata": {},
   "outputs": [
    {
     "data": {
      "text/plain": [
       "17"
      ]
     },
     "execution_count": 2,
     "metadata": {},
     "output_type": "execute_result"
    }
   ],
   "source": [
    "#This is a basic arithmetic operation made in code with Python\n",
    "\n",
    "(3*4)+5"
   ]
  },
  {
   "cell_type": "code",
   "execution_count": 8,
   "id": "c122f10b-cb6f-4ac6-b195-d7ebeba2843a",
   "metadata": {},
   "outputs": [
    {
     "name": "stdout",
     "output_type": "stream",
     "text": [
      "200 minutes are 3.33 hours\n"
     ]
    }
   ],
   "source": [
    "#This will convert 200 minutes to hours by diving by 60\n",
    "\n",
    "minutos = 200\n",
    "horas = minutos / 60\n",
    "\n",
    "print(f\"200 minutes are {horas:.2f} hours\")"
   ]
  },
  {
   "cell_type": "markdown",
   "id": "2a223f0e-137a-4b55-bdfa-919f321b5828",
   "metadata": {},
   "source": [
    "**Objectives:**\n",
    "\n",
    "- List popular languages for Data Science  \n",
    "- Identify commonly used libraries for Data Science  \n",
    "- Learn the basics on popular open source development tools\n",
    "- Create and format Markdown tables in Jupyter Notebook  \n",
    "- Perform simple Python operations and formatting \n"
   ]
  },
  {
   "cell_type": "markdown",
   "id": "21e420c6-b4e1-4921-bb86-60e876ab8b67",
   "metadata": {},
   "source": [
    "## Author\n",
    "Bautista Jaureguiberry"
   ]
  },
  {
   "cell_type": "code",
   "execution_count": null,
   "id": "afa01e8c-c260-43ac-bbf1-7a6f951d3a1f",
   "metadata": {},
   "outputs": [],
   "source": []
  }
 ],
 "metadata": {
  "kernelspec": {
   "display_name": "Python [conda env:base] *",
   "language": "python",
   "name": "conda-base-py"
  },
  "language_info": {
   "codemirror_mode": {
    "name": "ipython",
    "version": 3
   },
   "file_extension": ".py",
   "mimetype": "text/x-python",
   "name": "python",
   "nbconvert_exporter": "python",
   "pygments_lexer": "ipython3",
   "version": "3.13.5"
  }
 },
 "nbformat": 4,
 "nbformat_minor": 5
}
